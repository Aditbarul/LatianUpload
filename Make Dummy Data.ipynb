{
 "cells": [
  {
   "cell_type": "code",
   "execution_count": 1,
   "metadata": {},
   "outputs": [],
   "source": [
    "import numpy as np\n",
    "import pandas as pd\n",
    "import random\n",
    "import datetime"
   ]
  },
  {
   "cell_type": "code",
   "execution_count": 2,
   "metadata": {},
   "outputs": [
    {
     "data": {
      "text/html": [
       "<div>\n",
       "<style scoped>\n",
       "    .dataframe tbody tr th:only-of-type {\n",
       "        vertical-align: middle;\n",
       "    }\n",
       "\n",
       "    .dataframe tbody tr th {\n",
       "        vertical-align: top;\n",
       "    }\n",
       "\n",
       "    .dataframe thead th {\n",
       "        text-align: right;\n",
       "    }\n",
       "</style>\n",
       "<table border=\"1\" class=\"dataframe\">\n",
       "  <thead>\n",
       "    <tr style=\"text-align: right;\">\n",
       "      <th></th>\n",
       "      <th>id</th>\n",
       "      <th>nama</th>\n",
       "    </tr>\n",
       "  </thead>\n",
       "  <tbody>\n",
       "    <tr>\n",
       "      <th>0</th>\n",
       "      <td>1</td>\n",
       "      <td>Jakarta</td>\n",
       "    </tr>\n",
       "    <tr>\n",
       "      <th>1</th>\n",
       "      <td>2</td>\n",
       "      <td>Tangerang</td>\n",
       "    </tr>\n",
       "    <tr>\n",
       "      <th>2</th>\n",
       "      <td>3</td>\n",
       "      <td>Bandung</td>\n",
       "    </tr>\n",
       "    <tr>\n",
       "      <th>3</th>\n",
       "      <td>4</td>\n",
       "      <td>Semarang</td>\n",
       "    </tr>\n",
       "    <tr>\n",
       "      <th>4</th>\n",
       "      <td>5</td>\n",
       "      <td>Denpasar</td>\n",
       "    </tr>\n",
       "    <tr>\n",
       "      <th>5</th>\n",
       "      <td>6</td>\n",
       "      <td>Surabaya</td>\n",
       "    </tr>\n",
       "  </tbody>\n",
       "</table>\n",
       "</div>"
      ],
      "text/plain": [
       "   id       nama\n",
       "0   1    Jakarta\n",
       "1   2  Tangerang\n",
       "2   3    Bandung\n",
       "3   4   Semarang\n",
       "4   5   Denpasar\n",
       "5   6   Surabaya"
      ]
     },
     "execution_count": 2,
     "metadata": {},
     "output_type": "execute_result"
    }
   ],
   "source": [
    "dfKota = pd.DataFrame(data=[[1, 'Jakarta'],\n",
    "                           [2, 'Tangerang'],\n",
    "                           [3, 'Bandung'],\n",
    "                           [4, 'Semarang'],\n",
    "                           [5, 'Denpasar'],\n",
    "                           [6, 'Surabaya']], columns=['id','nama'])\n",
    "dfKota"
   ]
  },
  {
   "cell_type": "code",
   "execution_count": null,
   "metadata": {},
   "outputs": [],
   "source": [
    "def GenerateKota():\n",
    "    "
   ]
  },
  {
   "cell_type": "code",
   "execution_count": 4,
   "metadata": {},
   "outputs": [
    {
     "data": {
      "text/html": [
       "<div>\n",
       "<style scoped>\n",
       "    .dataframe tbody tr th:only-of-type {\n",
       "        vertical-align: middle;\n",
       "    }\n",
       "\n",
       "    .dataframe tbody tr th {\n",
       "        vertical-align: top;\n",
       "    }\n",
       "\n",
       "    .dataframe thead th {\n",
       "        text-align: right;\n",
       "    }\n",
       "</style>\n",
       "<table border=\"1\" class=\"dataframe\">\n",
       "  <thead>\n",
       "    <tr style=\"text-align: right;\">\n",
       "      <th></th>\n",
       "      <th>id</th>\n",
       "      <th>namaToko</th>\n",
       "      <th>kotaId</th>\n",
       "      <th>alamat</th>\n",
       "      <th>totalIncome</th>\n",
       "      <th>tanggalBerdiri</th>\n",
       "    </tr>\n",
       "  </thead>\n",
       "  <tbody>\n",
       "    <tr>\n",
       "      <th>0</th>\n",
       "      <td>1</td>\n",
       "      <td>Toko 1</td>\n",
       "      <td>4</td>\n",
       "      <td>Alamat 1</td>\n",
       "      <td>2229</td>\n",
       "      <td>2015-12-05</td>\n",
       "    </tr>\n",
       "    <tr>\n",
       "      <th>1</th>\n",
       "      <td>2</td>\n",
       "      <td>Toko 2</td>\n",
       "      <td>4</td>\n",
       "      <td>Alamat 2</td>\n",
       "      <td>8383</td>\n",
       "      <td>2019-12-15</td>\n",
       "    </tr>\n",
       "    <tr>\n",
       "      <th>2</th>\n",
       "      <td>3</td>\n",
       "      <td>Toko 3</td>\n",
       "      <td>1</td>\n",
       "      <td>Alamat 3</td>\n",
       "      <td>7235</td>\n",
       "      <td>2015-09-17</td>\n",
       "    </tr>\n",
       "    <tr>\n",
       "      <th>3</th>\n",
       "      <td>4</td>\n",
       "      <td>Toko 4</td>\n",
       "      <td>3</td>\n",
       "      <td>Alamat 4</td>\n",
       "      <td>1425</td>\n",
       "      <td>2019-12-01</td>\n",
       "    </tr>\n",
       "    <tr>\n",
       "      <th>4</th>\n",
       "      <td>5</td>\n",
       "      <td>Toko 5</td>\n",
       "      <td>1</td>\n",
       "      <td>Alamat 5</td>\n",
       "      <td>4976</td>\n",
       "      <td>2015-05-11</td>\n",
       "    </tr>\n",
       "  </tbody>\n",
       "</table>\n",
       "</div>"
      ],
      "text/plain": [
       "  id namaToko  kotaId    alamat  totalIncome tanggalBerdiri\n",
       "0  1   Toko 1       4  Alamat 1         2229     2015-12-05\n",
       "1  2   Toko 2       4  Alamat 2         8383     2019-12-15\n",
       "2  3   Toko 3       1  Alamat 3         7235     2015-09-17\n",
       "3  4   Toko 4       3  Alamat 4         1425     2019-12-01\n",
       "4  5   Toko 5       1  Alamat 5         4976     2015-05-11"
      ]
     },
     "execution_count": 4,
     "metadata": {},
     "output_type": "execute_result"
    }
   ],
   "source": [
    "namaToko = []\n",
    "kotaToko = []\n",
    "alamatToko = []\n",
    "idToko = []\n",
    "totalIncome = []\n",
    "dateTime = []\n",
    "\n",
    "for i in range(1,101):\n",
    "    namaToko.append('Toko '+str(i))\n",
    "for i in range(1,101):\n",
    "    alamatToko.append('Alamat '+str(i))\n",
    "for i in range(1,101):\n",
    "    idToko.append(str(i))\n",
    "####################################################################################################\n",
    "for i in range(1,101):\n",
    "    kotaToko.append(random.randint(1,6))\n",
    "####################################################################################################\n",
    "for i in range(1,101):\n",
    "    totalIncome.append(random.randint(1000,10000))\n",
    "for i in range(1,101):\n",
    "    dateTime.append(datetime.datetime(random.randint(2015,2019), random.randint(1,12), random.randint(1,27)))\n",
    "dfToko = pd.DataFrame({'id':idToko,\n",
    "                       'namaToko':namaToko,\n",
    "                       'kotaId': kotaToko,\n",
    "                       'alamat':alamatToko,\n",
    "                       'totalIncome': totalIncome,\n",
    "                       'tanggalBerdiri' : dateTime})\n",
    "dfToko.head()"
   ]
  },
  {
   "cell_type": "code",
   "execution_count": null,
   "metadata": {},
   "outputs": [],
   "source": [
    "dfToko['kotaId'].value_counts()"
   ]
  },
  {
   "cell_type": "code",
   "execution_count": null,
   "metadata": {},
   "outputs": [],
   "source": [
    "dfKota['id'][0]"
   ]
  }
 ],
 "metadata": {
  "kernelspec": {
   "display_name": "Python 3",
   "language": "python",
   "name": "python3"
  },
  "language_info": {
   "codemirror_mode": {
    "name": "ipython",
    "version": 3
   },
   "file_extension": ".py",
   "mimetype": "text/x-python",
   "name": "python",
   "nbconvert_exporter": "python",
   "pygments_lexer": "ipython3",
   "version": "3.6.5"
  }
 },
 "nbformat": 4,
 "nbformat_minor": 2
}
